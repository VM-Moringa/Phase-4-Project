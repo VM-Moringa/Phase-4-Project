{
 "cells": [
  {
   "cell_type": "markdown",
   "metadata": {},
   "source": [
    "# Recommendation System\n",
    "By Victor Mwatu"
   ]
  },
  {
   "cell_type": "markdown",
   "metadata": {},
   "source": [
    "### Summary\n",
    "\n",
    "This is a project whose goal is the creation of a machine learning algorithm that gives movie recommendations based on their ratings of movies in a dataset, which in this case was the Movielense dataset. \n",
    "\n",
    "The dataset contains several files but the ones of interest will are the ratings file containing the user ratings and the movies file with movie names.\n",
    "\n",
    "The dataset after importing to Pandas Dataframe format has no missing values and only the timestamp field is drop as it is not relevant. A surprise dataset object is then created which will be used with the Surprise python library for recommendation systems.\n",
    "\n",
    "Next operation is the creation of a simple baseline modelling process. It is achieved using a loop that loops through several simple memory based models and a simple basic SVD model for validating. The best performing model turns out to be the simple SVD with an RMSE of 0.877 and the worst is the KNN-basic with RMSE of 0.977. After that an SVD model is optimised using GridsearchCV to produce an optimum parameter model which is trained on the rest of the data. The final model had a RMSE of around 0.86 which is lower than that of the baseline.\n",
    "\n",
    "A new user's data is merged with the dataset and compiled. The model is then able to provide user ratings for other movies and by selecting the movies with the highest ratings the user can be recommended top movies.\n"
   ]
  },
  {
   "cell_type": "markdown",
   "metadata": {},
   "source": [
    "## 1. Business Understanding\n",
    "\n",
    "This project aims to create a machine learning model that recommends movies to a user based on the user's ratings of other movies or if there is no data about the user, it recommends movies simmilar to one selected by the user.\n",
    "\n",
    "The main stakeholders in this project is streaming services such as Netflix or any service that offers a wide selection of movies or simmilar products, and also users of such services. \n",
    "\n",
    "There has been an increase in the number and variety of products that can be offered to a customer due to the advancement of online stores and services. These stores are capable of having very large virtual portfolios to select from, something that was not possible with brick and motar stores due to physical constraints. This creates a problem when it comes to selection of a product by a customer.\n",
    "\n",
    "Selecting one out of possibly millions of available options is a difficult task. A customer may end up with products that are not of their liking if they select randomly, or they may have to tidiousely look through a lot of options to find a suitable one. This is both bad for the customers as it is time consuming and unpleasant, and for the business as it may lead to loss of interest by customers and therefore loss of revenue.\n",
    "\n",
    "The recommendation system modelled in this project will provide a customer with a set of smaller options that are easier to choose from, that are based on the customers preferences if available, also known as collaborative filtering, or based on a product selected by the customer, a method known as content based filtering."
   ]
  },
  {
   "cell_type": "markdown",
   "metadata": {},
   "source": [
    "## 2. Data Understanding\n",
    "\n",
    "The data that will be used to make movie recommendations is the 'Movielense' dataset from the GroupLens research lab at the University of Minnesota. This is a well known dataset used in many recommendation system academic papers and machine learning proof of concept. \n",
    "\n",
    "It contains \"100,000 ratings and 3,600 tag applications applied to 9,000 movies by 600 users.\" according to its description. For further reference, the dataset and the Readme file describing it are in the file containing this notebook. \n",
    "\n",
    "Generally the dataset  contains four files:\n",
    "\n",
    "**1. Links:** This file contains links to other websites. This file will not be relevant to this.\n",
    "\n",
    "**2. Movies:** This file contains movie details.\n",
    "\n",
    "**3. Ratings:** Thid file contains the user ratings.\n",
    "\n",
    "**4. Tags:** This file contains tags which are words or phrases provided by the users which are relevant to the movie.\n"
   ]
  },
  {
   "cell_type": "code",
   "execution_count": 50,
   "metadata": {},
   "outputs": [],
   "source": [
    "# Import the libraries that are going to be used\n",
    "import pandas as pd\n",
    "import numpy as np\n",
    "import matplotlib.pyplot as plt\n",
    "from surprise import Reader, Dataset\n",
    "from surprise.model_selection import cross_validate\n",
    "from surprise.prediction_algorithms import SVD\n",
    "from surprise.prediction_algorithms import KNNWithMeans, KNNBasic, KNNBaseline\n",
    "from surprise.model_selection import GridSearchCV\n"
   ]
  },
  {
   "cell_type": "code",
   "execution_count": 51,
   "metadata": {},
   "outputs": [
    {
     "name": "stdout",
     "output_type": "stream",
     "text": [
      "Movies df shape:(9742, 3)\n",
      "Ratings df shape:(100836, 4)\n",
      "Tags df shape:(3683, 4)\n",
      "\n",
      "\n",
      "<class 'pandas.core.frame.DataFrame'>\n",
      "RangeIndex: 9742 entries, 0 to 9741\n",
      "Data columns (total 3 columns):\n",
      " #   Column   Non-Null Count  Dtype \n",
      "---  ------   --------------  ----- \n",
      " 0   movieId  9742 non-null   int64 \n",
      " 1   title    9742 non-null   object\n",
      " 2   genres   9742 non-null   object\n",
      "dtypes: int64(1), object(2)\n",
      "memory usage: 228.5+ KB\n",
      "None\n",
      "\n",
      "\n",
      "<class 'pandas.core.frame.DataFrame'>\n",
      "RangeIndex: 100836 entries, 0 to 100835\n",
      "Data columns (total 4 columns):\n",
      " #   Column     Non-Null Count   Dtype  \n",
      "---  ------     --------------   -----  \n",
      " 0   userId     100836 non-null  int64  \n",
      " 1   movieId    100836 non-null  int64  \n",
      " 2   rating     100836 non-null  float64\n",
      " 3   timestamp  100836 non-null  int64  \n",
      "dtypes: float64(1), int64(3)\n",
      "memory usage: 3.1 MB\n",
      "None\n",
      "\n",
      "\n",
      "<class 'pandas.core.frame.DataFrame'>\n",
      "RangeIndex: 3683 entries, 0 to 3682\n",
      "Data columns (total 4 columns):\n",
      " #   Column     Non-Null Count  Dtype \n",
      "---  ------     --------------  ----- \n",
      " 0   userId     3683 non-null   int64 \n",
      " 1   movieId    3683 non-null   int64 \n",
      " 2   tag        3683 non-null   object\n",
      " 3   timestamp  3683 non-null   int64 \n",
      "dtypes: int64(3), object(1)\n",
      "memory usage: 115.2+ KB\n",
      "None\n",
      "\n",
      "\n"
     ]
    }
   ],
   "source": [
    "# Look at the contents of the dataset files\n",
    "df_ratings = pd.read_csv('ml-latest-small/ratings.csv')\n",
    "df_movies = pd.read_csv('ml-latest-small/movies.csv')\n",
    "df_tags = pd.read_csv('ml-latest-small/tags.csv')\n",
    "\n",
    "# Show dimension of data\n",
    "print(f'Movies df shape:{df_movies.shape}')\n",
    "print(f'Ratings df shape:{df_ratings.shape}')\n",
    "print(f'Tags df shape:{df_tags.shape}')\n",
    "print('\\n')\n",
    "\n",
    "# Show information about the data\n",
    "print(df_movies.info())\n",
    "print('\\n')\n",
    "print(df_ratings.info())\n",
    "print('\\n')\n",
    "print(df_tags.info())\n",
    "print('\\n')"
   ]
  },
  {
   "cell_type": "markdown",
   "metadata": {},
   "source": [
    "### Observations\n",
    "- It appears that the data set has no missing values and does not require cleaning.\n",
    "\n",
    "- The ratings file is the main file used for collaborative filtering. It contains 100,000 ratings. The movies file will be used to refer to the movie's name and details when making recommendations. There are around 10,000 movies to select from. The tags file will be used for content-based filtering. \n",
    "\n",
    "- The only change to the Dataframes is dropping the timestamp column in the ratings file as it is not useful in collaborative filtering because all we need is other users and their ratings.\n",
    "\n",
    "- The data may be constrained in size due to limitations on resources, time and computing power, available for a proof of concept project like this one."
   ]
  },
  {
   "cell_type": "markdown",
   "metadata": {},
   "source": [
    "## 3. Data Preparation\n",
    "\n",
    "As stated earlier this dataset does not require data preparation. It can be used as is after sourcing it. \n",
    "\n",
    "The only step is to drop the timestamp column of the ratings Dataframe and creating a 'Surprise' dataset from the ratings Dataframe for analysis with the Python's Surprise library."
   ]
  },
  {
   "cell_type": "code",
   "execution_count": 52,
   "metadata": {},
   "outputs": [
    {
     "data": {
      "text/plain": [
       "0"
      ]
     },
     "execution_count": 52,
     "metadata": {},
     "output_type": "execute_result"
    }
   ],
   "source": [
    "# Drop the timestamp column for it is not relevant for now\n",
    "df_ratings.drop(columns='timestamp', inplace=True)\n",
    "\n",
    "# Check for duplicates\n",
    "df_ratings.duplicated().sum()"
   ]
  },
  {
   "cell_type": "code",
   "execution_count": 134,
   "metadata": {},
   "outputs": [],
   "source": [
    "# Create a Surprise dataset from the ratings Dataframe\n",
    "reader = Reader()\n",
    "data = Dataset.load_from_df(df_ratings, reader)\n",
    "dataset = data.build_full_trainset()"
   ]
  },
  {
   "cell_type": "markdown",
   "metadata": {},
   "source": [
    "### Exploratory Data Analysis\n",
    "\n",
    "Visualisation of the data and derivation of statistics from data which will aid in a better understanding of the data and guide on the modelling processes"
   ]
  },
  {
   "cell_type": "code",
   "execution_count": 135,
   "metadata": {},
   "outputs": [],
   "source": [
    "# Merging of movies and ratings dataframe for visualization and exploration\n",
    "merged_movies_ratings = pd.merge(df_movies, df_ratings, how='left', on='movieId')\n",
    "# merged_movies_ratings.drop('timestamp', inplace=True)\n",
    "\n",
    "# Merge movies ratings and tags so as to perform item based filtering for users without data(cold start users)\n",
    "merged_movies_ratings_tags = pd.merge(merged_movies_ratings, df_tags, how='left', on='movieId')\n",
    "\n"
   ]
  },
  {
   "cell_type": "markdown",
   "metadata": {},
   "source": [
    "- There are 610 users\n",
    "- The average movie rating is 3.5\n"
   ]
  },
  {
   "cell_type": "code",
   "execution_count": 84,
   "metadata": {},
   "outputs": [
    {
     "data": {
      "text/html": [
       "<div>\n",
       "<style scoped>\n",
       "    .dataframe tbody tr th:only-of-type {\n",
       "        vertical-align: middle;\n",
       "    }\n",
       "\n",
       "    .dataframe tbody tr th {\n",
       "        vertical-align: top;\n",
       "    }\n",
       "\n",
       "    .dataframe thead th {\n",
       "        text-align: right;\n",
       "    }\n",
       "</style>\n",
       "<table border=\"1\" class=\"dataframe\">\n",
       "  <thead>\n",
       "    <tr style=\"text-align: right;\">\n",
       "      <th></th>\n",
       "      <th>rating</th>\n",
       "    </tr>\n",
       "    <tr>\n",
       "      <th>title</th>\n",
       "      <th></th>\n",
       "    </tr>\n",
       "  </thead>\n",
       "  <tbody>\n",
       "    <tr>\n",
       "      <th>'71 (2014)</th>\n",
       "      <td>4.000000</td>\n",
       "    </tr>\n",
       "    <tr>\n",
       "      <th>'Hellboy': The Seeds of Creation (2004)</th>\n",
       "      <td>4.000000</td>\n",
       "    </tr>\n",
       "    <tr>\n",
       "      <th>'Round Midnight (1986)</th>\n",
       "      <td>3.500000</td>\n",
       "    </tr>\n",
       "    <tr>\n",
       "      <th>'Salem's Lot (2004)</th>\n",
       "      <td>5.000000</td>\n",
       "    </tr>\n",
       "    <tr>\n",
       "      <th>'Til There Was You (1997)</th>\n",
       "      <td>4.000000</td>\n",
       "    </tr>\n",
       "    <tr>\n",
       "      <th>...</th>\n",
       "      <td>...</td>\n",
       "    </tr>\n",
       "    <tr>\n",
       "      <th>eXistenZ (1999)</th>\n",
       "      <td>3.863636</td>\n",
       "    </tr>\n",
       "    <tr>\n",
       "      <th>xXx (2002)</th>\n",
       "      <td>2.770833</td>\n",
       "    </tr>\n",
       "    <tr>\n",
       "      <th>xXx: State of the Union (2005)</th>\n",
       "      <td>2.000000</td>\n",
       "    </tr>\n",
       "    <tr>\n",
       "      <th>¡Three Amigos! (1986)</th>\n",
       "      <td>3.134615</td>\n",
       "    </tr>\n",
       "    <tr>\n",
       "      <th>À nous la liberté (Freedom for Us) (1931)</th>\n",
       "      <td>1.000000</td>\n",
       "    </tr>\n",
       "  </tbody>\n",
       "</table>\n",
       "<p>9737 rows × 1 columns</p>\n",
       "</div>"
      ],
      "text/plain": [
       "                                             rating\n",
       "title                                              \n",
       "'71 (2014)                                 4.000000\n",
       "'Hellboy': The Seeds of Creation (2004)    4.000000\n",
       "'Round Midnight (1986)                     3.500000\n",
       "'Salem's Lot (2004)                        5.000000\n",
       "'Til There Was You (1997)                  4.000000\n",
       "...                                             ...\n",
       "eXistenZ (1999)                            3.863636\n",
       "xXx (2002)                                 2.770833\n",
       "xXx: State of the Union (2005)             2.000000\n",
       "¡Three Amigos! (1986)                      3.134615\n",
       "À nous la liberté (Freedom for Us) (1931)  1.000000\n",
       "\n",
       "[9737 rows x 1 columns]"
      ]
     },
     "execution_count": 84,
     "metadata": {},
     "output_type": "execute_result"
    }
   ],
   "source": [
    "ratings = pd.DataFrame(merged_movies_ratings.groupby(\"title\")['rating'].mean())\n",
    "ratings"
   ]
  },
  {
   "cell_type": "code",
   "execution_count": 107,
   "metadata": {},
   "outputs": [
    {
     "data": {
      "text/html": [
       "<div>\n",
       "<style scoped>\n",
       "    .dataframe tbody tr th:only-of-type {\n",
       "        vertical-align: middle;\n",
       "    }\n",
       "\n",
       "    .dataframe tbody tr th {\n",
       "        vertical-align: top;\n",
       "    }\n",
       "\n",
       "    .dataframe thead th {\n",
       "        text-align: right;\n",
       "    }\n",
       "</style>\n",
       "<table border=\"1\" class=\"dataframe\">\n",
       "  <thead>\n",
       "    <tr style=\"text-align: right;\">\n",
       "      <th></th>\n",
       "      <th>rating</th>\n",
       "      <th>total_ratings</th>\n",
       "      <th>total_number_of_ratings</th>\n",
       "    </tr>\n",
       "    <tr>\n",
       "      <th>title</th>\n",
       "      <th></th>\n",
       "      <th></th>\n",
       "      <th></th>\n",
       "    </tr>\n",
       "  </thead>\n",
       "  <tbody>\n",
       "    <tr>\n",
       "      <th>'71 (2014)</th>\n",
       "      <td>4.000000</td>\n",
       "      <td>4.0</td>\n",
       "      <td>1</td>\n",
       "    </tr>\n",
       "    <tr>\n",
       "      <th>'Hellboy': The Seeds of Creation (2004)</th>\n",
       "      <td>4.000000</td>\n",
       "      <td>4.0</td>\n",
       "      <td>1</td>\n",
       "    </tr>\n",
       "    <tr>\n",
       "      <th>'Round Midnight (1986)</th>\n",
       "      <td>3.500000</td>\n",
       "      <td>7.0</td>\n",
       "      <td>2</td>\n",
       "    </tr>\n",
       "    <tr>\n",
       "      <th>'Salem's Lot (2004)</th>\n",
       "      <td>5.000000</td>\n",
       "      <td>5.0</td>\n",
       "      <td>1</td>\n",
       "    </tr>\n",
       "    <tr>\n",
       "      <th>'Til There Was You (1997)</th>\n",
       "      <td>4.000000</td>\n",
       "      <td>8.0</td>\n",
       "      <td>2</td>\n",
       "    </tr>\n",
       "    <tr>\n",
       "      <th>...</th>\n",
       "      <td>...</td>\n",
       "      <td>...</td>\n",
       "      <td>...</td>\n",
       "    </tr>\n",
       "    <tr>\n",
       "      <th>eXistenZ (1999)</th>\n",
       "      <td>3.863636</td>\n",
       "      <td>85.0</td>\n",
       "      <td>22</td>\n",
       "    </tr>\n",
       "    <tr>\n",
       "      <th>xXx (2002)</th>\n",
       "      <td>2.770833</td>\n",
       "      <td>66.5</td>\n",
       "      <td>24</td>\n",
       "    </tr>\n",
       "    <tr>\n",
       "      <th>xXx: State of the Union (2005)</th>\n",
       "      <td>2.000000</td>\n",
       "      <td>10.0</td>\n",
       "      <td>5</td>\n",
       "    </tr>\n",
       "    <tr>\n",
       "      <th>¡Three Amigos! (1986)</th>\n",
       "      <td>3.134615</td>\n",
       "      <td>81.5</td>\n",
       "      <td>26</td>\n",
       "    </tr>\n",
       "    <tr>\n",
       "      <th>À nous la liberté (Freedom for Us) (1931)</th>\n",
       "      <td>1.000000</td>\n",
       "      <td>1.0</td>\n",
       "      <td>1</td>\n",
       "    </tr>\n",
       "  </tbody>\n",
       "</table>\n",
       "<p>9737 rows × 3 columns</p>\n",
       "</div>"
      ],
      "text/plain": [
       "                                             rating  total_ratings   \n",
       "title                                                                \n",
       "'71 (2014)                                 4.000000            4.0  \\\n",
       "'Hellboy': The Seeds of Creation (2004)    4.000000            4.0   \n",
       "'Round Midnight (1986)                     3.500000            7.0   \n",
       "'Salem's Lot (2004)                        5.000000            5.0   \n",
       "'Til There Was You (1997)                  4.000000            8.0   \n",
       "...                                             ...            ...   \n",
       "eXistenZ (1999)                            3.863636           85.0   \n",
       "xXx (2002)                                 2.770833           66.5   \n",
       "xXx: State of the Union (2005)             2.000000           10.0   \n",
       "¡Three Amigos! (1986)                      3.134615           81.5   \n",
       "À nous la liberté (Freedom for Us) (1931)  1.000000            1.0   \n",
       "\n",
       "                                           total_number_of_ratings  \n",
       "title                                                               \n",
       "'71 (2014)                                                       1  \n",
       "'Hellboy': The Seeds of Creation (2004)                          1  \n",
       "'Round Midnight (1986)                                           2  \n",
       "'Salem's Lot (2004)                                              1  \n",
       "'Til There Was You (1997)                                        2  \n",
       "...                                                            ...  \n",
       "eXistenZ (1999)                                                 22  \n",
       "xXx (2002)                                                      24  \n",
       "xXx: State of the Union (2005)                                   5  \n",
       "¡Three Amigos! (1986)                                           26  \n",
       "À nous la liberté (Freedom for Us) (1931)                        1  \n",
       "\n",
       "[9737 rows x 3 columns]"
      ]
     },
     "execution_count": 107,
     "metadata": {},
     "output_type": "execute_result"
    }
   ],
   "source": [
    "ratings['total_number_of_ratings'] = pd.DataFrame(merged_movies_ratings.groupby(\"title\")['rating'].count())\n",
    "ratings['total_ratings'] = pd.DataFrame(merged_movies_ratings.groupby(\"title\")['rating'].sum())\n",
    "ratings"
   ]
  },
  {
   "cell_type": "code",
   "execution_count": 93,
   "metadata": {},
   "outputs": [
    {
     "data": {
      "text/plain": [
       "Text(0.5, 1.0, 'Distribution of Ratings')"
      ]
     },
     "execution_count": 93,
     "metadata": {},
     "output_type": "execute_result"
    },
    {
     "data": {
      "image/png": "[encoded data removed]",
      "text/plain": [
       "<Figure size 900x500 with 1 Axes>"
      ]
     },
     "metadata": {},
     "output_type": "display_data"
    }
   ],
   "source": [
    "# Plot the distribution of ratings\n",
    "plt.figure(figsize=(9,5))\n",
    "plt.hist(ratings['rating'])\n",
    "plt.xlabel('Rating')\n",
    "plt.ylabel('Number of Movies')\n",
    "plt.title('Distribution of Ratings')"
   ]
  },
  {
   "cell_type": "code",
   "execution_count": 104,
   "metadata": {},
   "outputs": [
    {
     "data": {
      "text/html": [
       "<div>\n",
       "<style scoped>\n",
       "    .dataframe tbody tr th:only-of-type {\n",
       "        vertical-align: middle;\n",
       "    }\n",
       "\n",
       "    .dataframe tbody tr th {\n",
       "        vertical-align: top;\n",
       "    }\n",
       "\n",
       "    .dataframe thead th {\n",
       "        text-align: right;\n",
       "    }\n",
       "</style>\n",
       "<table border=\"1\" class=\"dataframe\">\n",
       "  <thead>\n",
       "    <tr style=\"text-align: right;\">\n",
       "      <th></th>\n",
       "      <th>rating</th>\n",
       "      <th>total_ratings</th>\n",
       "    </tr>\n",
       "    <tr>\n",
       "      <th>title</th>\n",
       "      <th></th>\n",
       "      <th></th>\n",
       "    </tr>\n",
       "  </thead>\n",
       "  <tbody>\n",
       "    <tr>\n",
       "      <th>Come and See (Idi i smotri) (1985)</th>\n",
       "      <td>5.0</td>\n",
       "      <td>2</td>\n",
       "    </tr>\n",
       "    <tr>\n",
       "      <th>Heidi Fleiss: Hollywood Madam (1995)</th>\n",
       "      <td>5.0</td>\n",
       "      <td>2</td>\n",
       "    </tr>\n",
       "    <tr>\n",
       "      <th>Enter the Void (2009)</th>\n",
       "      <td>5.0</td>\n",
       "      <td>2</td>\n",
       "    </tr>\n",
       "    <tr>\n",
       "      <th>Lamerica (1994)</th>\n",
       "      <td>5.0</td>\n",
       "      <td>2</td>\n",
       "    </tr>\n",
       "    <tr>\n",
       "      <th>Belle époque (1992)</th>\n",
       "      <td>5.0</td>\n",
       "      <td>2</td>\n",
       "    </tr>\n",
       "    <tr>\n",
       "      <th>...</th>\n",
       "      <td>...</td>\n",
       "      <td>...</td>\n",
       "    </tr>\n",
       "    <tr>\n",
       "      <th>Guy X (2005)</th>\n",
       "      <td>5.0</td>\n",
       "      <td>1</td>\n",
       "    </tr>\n",
       "    <tr>\n",
       "      <th>Goodbye Charlie (1964)</th>\n",
       "      <td>5.0</td>\n",
       "      <td>1</td>\n",
       "    </tr>\n",
       "    <tr>\n",
       "      <th>Going Places (Valseuses, Les) (1974)</th>\n",
       "      <td>5.0</td>\n",
       "      <td>1</td>\n",
       "    </tr>\n",
       "    <tr>\n",
       "      <th>Go for Zucker! (Alles auf Zucker!) (2004)</th>\n",
       "      <td>5.0</td>\n",
       "      <td>1</td>\n",
       "    </tr>\n",
       "    <tr>\n",
       "      <th>Zeitgeist: Moving Forward (2011)</th>\n",
       "      <td>5.0</td>\n",
       "      <td>1</td>\n",
       "    </tr>\n",
       "  </tbody>\n",
       "</table>\n",
       "<p>296 rows × 2 columns</p>\n",
       "</div>"
      ],
      "text/plain": [
       "                                           rating  total_ratings\n",
       "title                                                           \n",
       "Come and See (Idi i smotri) (1985)            5.0              2\n",
       "Heidi Fleiss: Hollywood Madam (1995)          5.0              2\n",
       "Enter the Void (2009)                         5.0              2\n",
       "Lamerica (1994)                               5.0              2\n",
       "Belle époque (1992)                           5.0              2\n",
       "...                                           ...            ...\n",
       "Guy X (2005)                                  5.0              1\n",
       "Goodbye Charlie (1964)                        5.0              1\n",
       "Going Places (Valseuses, Les) (1974)          5.0              1\n",
       "Go for Zucker! (Alles auf Zucker!) (2004)     5.0              1\n",
       "Zeitgeist: Moving Forward (2011)              5.0              1\n",
       "\n",
       "[296 rows x 2 columns]"
      ]
     },
     "execution_count": 104,
     "metadata": {},
     "output_type": "execute_result"
    }
   ],
   "source": [
    "# Get the top rated movies with the highest score of 5\n",
    "top_rated = ratings.loc[ratings['rating'] == 5].sort_values(by='total_ratings', ascending=False)\n",
    "top_rated"
   ]
  },
  {
   "cell_type": "markdown",
   "metadata": {},
   "source": [
    "- Total ratings is a more reliable rating metric for movies in this dataset than rating average because those with the highest average have only been rated once or twice."
   ]
  },
  {
   "cell_type": "code",
   "execution_count": 106,
   "metadata": {},
   "outputs": [
    {
     "data": {
      "text/html": [
       "<div>\n",
       "<style scoped>\n",
       "    .dataframe tbody tr th:only-of-type {\n",
       "        vertical-align: middle;\n",
       "    }\n",
       "\n",
       "    .dataframe tbody tr th {\n",
       "        vertical-align: top;\n",
       "    }\n",
       "\n",
       "    .dataframe thead th {\n",
       "        text-align: right;\n",
       "    }\n",
       "</style>\n",
       "<table border=\"1\" class=\"dataframe\">\n",
       "  <thead>\n",
       "    <tr style=\"text-align: right;\">\n",
       "      <th></th>\n",
       "      <th>rating</th>\n",
       "      <th>total_ratings</th>\n",
       "    </tr>\n",
       "    <tr>\n",
       "      <th>title</th>\n",
       "      <th></th>\n",
       "      <th></th>\n",
       "    </tr>\n",
       "  </thead>\n",
       "  <tbody>\n",
       "    <tr>\n",
       "      <th>Trial, The (Procès, Le) (1962)</th>\n",
       "      <td>4.900000</td>\n",
       "      <td>5</td>\n",
       "    </tr>\n",
       "    <tr>\n",
       "      <th>What We Do in the Shadows (2014)</th>\n",
       "      <td>4.833333</td>\n",
       "      <td>3</td>\n",
       "    </tr>\n",
       "    <tr>\n",
       "      <th>Bad Boy Bubby (1993)</th>\n",
       "      <td>4.833333</td>\n",
       "      <td>3</td>\n",
       "    </tr>\n",
       "    <tr>\n",
       "      <th>Awful Truth, The (1937)</th>\n",
       "      <td>4.750000</td>\n",
       "      <td>2</td>\n",
       "    </tr>\n",
       "    <tr>\n",
       "      <th>Imposter, The (2012)</th>\n",
       "      <td>4.750000</td>\n",
       "      <td>2</td>\n",
       "    </tr>\n",
       "    <tr>\n",
       "      <th>...</th>\n",
       "      <td>...</td>\n",
       "      <td>...</td>\n",
       "    </tr>\n",
       "    <tr>\n",
       "      <th>Reptilicus (1961)</th>\n",
       "      <td>0.500000</td>\n",
       "      <td>1</td>\n",
       "    </tr>\n",
       "    <tr>\n",
       "      <th>Follow Me, Boys! (1966)</th>\n",
       "      <td>0.500000</td>\n",
       "      <td>1</td>\n",
       "    </tr>\n",
       "    <tr>\n",
       "      <th>Ring of Terror (1962)</th>\n",
       "      <td>0.500000</td>\n",
       "      <td>1</td>\n",
       "    </tr>\n",
       "    <tr>\n",
       "      <th>Risen (2016)</th>\n",
       "      <td>0.500000</td>\n",
       "      <td>1</td>\n",
       "    </tr>\n",
       "    <tr>\n",
       "      <th>Pokemon 4 Ever (a.k.a. Pokémon 4: The Movie) (2002)</th>\n",
       "      <td>0.500000</td>\n",
       "      <td>2</td>\n",
       "    </tr>\n",
       "  </tbody>\n",
       "</table>\n",
       "<p>9423 rows × 2 columns</p>\n",
       "</div>"
      ],
      "text/plain": [
       "                                                      rating  total_ratings\n",
       "title                                                                      \n",
       "Trial, The (Procès, Le) (1962)                      4.900000              5\n",
       "What We Do in the Shadows (2014)                    4.833333              3\n",
       "Bad Boy Bubby (1993)                                4.833333              3\n",
       "Awful Truth, The (1937)                             4.750000              2\n",
       "Imposter, The (2012)                                4.750000              2\n",
       "...                                                      ...            ...\n",
       "Reptilicus (1961)                                   0.500000              1\n",
       "Follow Me, Boys! (1966)                             0.500000              1\n",
       "Ring of Terror (1962)                               0.500000              1\n",
       "Risen (2016)                                        0.500000              1\n",
       "Pokemon 4 Ever (a.k.a. Pokémon 4: The Movie) (2...  0.500000              2\n",
       "\n",
       "[9423 rows x 2 columns]"
      ]
     },
     "execution_count": 106,
     "metadata": {},
     "output_type": "execute_result"
    }
   ],
   "source": [
    "top_rated2 = ratings.loc[ratings['rating'] < 5].sort_values(by='rating', ascending=False)\n",
    "top_rated2"
   ]
  },
  {
   "cell_type": "code",
   "execution_count": 111,
   "metadata": {},
   "outputs": [
    {
     "data": {
      "text/html": [
       "<div>\n",
       "<style scoped>\n",
       "    .dataframe tbody tr th:only-of-type {\n",
       "        vertical-align: middle;\n",
       "    }\n",
       "\n",
       "    .dataframe tbody tr th {\n",
       "        vertical-align: top;\n",
       "    }\n",
       "\n",
       "    .dataframe thead th {\n",
       "        text-align: right;\n",
       "    }\n",
       "</style>\n",
       "<table border=\"1\" class=\"dataframe\">\n",
       "  <thead>\n",
       "    <tr style=\"text-align: right;\">\n",
       "      <th></th>\n",
       "      <th>rating</th>\n",
       "      <th>total_ratings</th>\n",
       "      <th>total_number_of_ratings</th>\n",
       "    </tr>\n",
       "    <tr>\n",
       "      <th>title</th>\n",
       "      <th></th>\n",
       "      <th></th>\n",
       "      <th></th>\n",
       "    </tr>\n",
       "  </thead>\n",
       "  <tbody>\n",
       "    <tr>\n",
       "      <th>Shawshank Redemption, The (1994)</th>\n",
       "      <td>4.429022</td>\n",
       "      <td>1404.0</td>\n",
       "      <td>317</td>\n",
       "    </tr>\n",
       "    <tr>\n",
       "      <th>Forrest Gump (1994)</th>\n",
       "      <td>4.164134</td>\n",
       "      <td>1370.0</td>\n",
       "      <td>329</td>\n",
       "    </tr>\n",
       "    <tr>\n",
       "      <th>Pulp Fiction (1994)</th>\n",
       "      <td>4.197068</td>\n",
       "      <td>1288.5</td>\n",
       "      <td>307</td>\n",
       "    </tr>\n",
       "    <tr>\n",
       "      <th>Matrix, The (1999)</th>\n",
       "      <td>4.192446</td>\n",
       "      <td>1165.5</td>\n",
       "      <td>278</td>\n",
       "    </tr>\n",
       "    <tr>\n",
       "      <th>Silence of the Lambs, The (1991)</th>\n",
       "      <td>4.161290</td>\n",
       "      <td>1161.0</td>\n",
       "      <td>279</td>\n",
       "    </tr>\n",
       "    <tr>\n",
       "      <th>Star Wars: Episode IV - A New Hope (1977)</th>\n",
       "      <td>4.231076</td>\n",
       "      <td>1062.0</td>\n",
       "      <td>251</td>\n",
       "    </tr>\n",
       "    <tr>\n",
       "      <th>Braveheart (1995)</th>\n",
       "      <td>4.031646</td>\n",
       "      <td>955.5</td>\n",
       "      <td>237</td>\n",
       "    </tr>\n",
       "    <tr>\n",
       "      <th>Fight Club (1999)</th>\n",
       "      <td>4.272936</td>\n",
       "      <td>931.5</td>\n",
       "      <td>218</td>\n",
       "    </tr>\n",
       "    <tr>\n",
       "      <th>Schindler's List (1993)</th>\n",
       "      <td>4.225000</td>\n",
       "      <td>929.5</td>\n",
       "      <td>220</td>\n",
       "    </tr>\n",
       "    <tr>\n",
       "      <th>Jurassic Park (1993)</th>\n",
       "      <td>3.750000</td>\n",
       "      <td>892.5</td>\n",
       "      <td>238</td>\n",
       "    </tr>\n",
       "  </tbody>\n",
       "</table>\n",
       "</div>"
      ],
      "text/plain": [
       "                                             rating  total_ratings   \n",
       "title                                                                \n",
       "Shawshank Redemption, The (1994)           4.429022         1404.0  \\\n",
       "Forrest Gump (1994)                        4.164134         1370.0   \n",
       "Pulp Fiction (1994)                        4.197068         1288.5   \n",
       "Matrix, The (1999)                         4.192446         1165.5   \n",
       "Silence of the Lambs, The (1991)           4.161290         1161.0   \n",
       "Star Wars: Episode IV - A New Hope (1977)  4.231076         1062.0   \n",
       "Braveheart (1995)                          4.031646          955.5   \n",
       "Fight Club (1999)                          4.272936          931.5   \n",
       "Schindler's List (1993)                    4.225000          929.5   \n",
       "Jurassic Park (1993)                       3.750000          892.5   \n",
       "\n",
       "                                           total_number_of_ratings  \n",
       "title                                                               \n",
       "Shawshank Redemption, The (1994)                               317  \n",
       "Forrest Gump (1994)                                            329  \n",
       "Pulp Fiction (1994)                                            307  \n",
       "Matrix, The (1999)                                             278  \n",
       "Silence of the Lambs, The (1991)                               279  \n",
       "Star Wars: Episode IV - A New Hope (1977)                      251  \n",
       "Braveheart (1995)                                              237  \n",
       "Fight Club (1999)                                              218  \n",
       "Schindler's List (1993)                                        220  \n",
       "Jurassic Park (1993)                                           238  "
      ]
     },
     "execution_count": 111,
     "metadata": {},
     "output_type": "execute_result"
    }
   ],
   "source": [
    "# Plot movies with most ratings overall and movies with highest ratings\n",
    "top_ten_ratings = ratings.sort_values(by='total_ratings', ascending=False, ).head(10)\n",
    "top_ten_ratings\n"
   ]
  },
  {
   "cell_type": "code",
   "execution_count": 120,
   "metadata": {},
   "outputs": [
    {
     "data": {
      "text/plain": [
       "<Axes: ylabel='title'>"
      ]
     },
     "execution_count": 120,
     "metadata": {},
     "output_type": "execute_result"
    },
    {
     "data": {
      "image/png": "[encoded data removed]",
      "text/plain": [
       "<Figure size 640x480 with 1 Axes>"
      ]
     },
     "metadata": {},
     "output_type": "display_data"
    }
   ],
   "source": [
    "top_ten_ratings.plot.barh(y=['total_ratings', 'total_number_of_ratings'])"
   ]
  },
  {
   "cell_type": "markdown",
   "metadata": {},
   "source": [
    "- 'The Shawshank Redemption' seems to be the most popular movie by total number of votes cast and total ratings, with an average rating of 4.2."
   ]
  },
  {
   "cell_type": "markdown",
   "metadata": {},
   "source": [
    "## 4. Modelling\n",
    "\n",
    "The python Surprise library is going to be used as it is specialised for recommendation systems with machine learning tasks. Crossvalidation will be used here and GridsearchCV to find the best model therefore the splitting of data into training and testing will not be necessary. For the baseline model the simple memory based models(model that makes prediction based on the entire dataset saved in memory) will be used, followed by optimization of a matrix-factorization model. Test metric will RMSE(Root Mean Squares Error) as it is the most common metric used to validate such tasks."
   ]
  },
  {
   "cell_type": "code",
   "execution_count": 129,
   "metadata": {},
   "outputs": [
    {
     "name": "stdout",
     "output_type": "stream",
     "text": [
      "Model knn_basic:Test Score = 0.9729254746920304\n",
      "\n",
      "Model knn_baseline:Test Score = 0.8778403758990585\n",
      "\n",
      "Model knn_with_means:Test Score = 0.8973264343491056\n",
      "\n",
      "Model svd_basic:Test Score = 0.8739315096767267\n",
      "\n"
     ]
    }
   ],
   "source": [
    "# Begin with crossvalidating basic models\n",
    "base_models = [\n",
    "    ('knn_basic', KNNBasic(sim_options={'name':'pearson', 'user_based':True})),\n",
    "    ('knn_baseline', KNNBaseline(sim_options={'name':'pearson', 'user_based':True})),\n",
    "    ('knn_with_means', KNNWithMeans(sim_options={'name':'pearson', 'user_based':True})),\n",
    "    ('svd_basic', SVD())\n",
    "]\n",
    "scores = []\n",
    "\n",
    "# Loop through models and save results\n",
    "for name, model in base_models:\n",
    "    cv = cross_validate(model, data, n_jobs=-1)\n",
    "    scores.append((name, np.mean(cv['test_rmse'])) )\n",
    "\n",
    "# Display Model Performance\n",
    "for name, test_score in scores:\n",
    "    print(f'Model {name}:Test Score = {test_score}\\n')\n"
   ]
  },
  {
   "cell_type": "code",
   "execution_count": 131,
   "metadata": {},
   "outputs": [
    {
     "name": "stdout",
     "output_type": "stream",
     "text": [
      "{'rmse': 0.8684974777782244, 'mae': 0.6673246238295406}\n",
      "{'rmse': {'n_factors': 75, 'reg_all': 0.05}, 'mae': {'n_factors': 75, 'reg_all': 0.05}}\n"
     ]
    }
   ],
   "source": [
    "# Next model is a matrix-factorization model which is more efficient and scalable\n",
    "params = {'n_factors': [25, 50, 75, 100],\n",
    "         'reg_all': [0.02, 0.05, 0.1]}\n",
    "\n",
    "svd_model_optimised = GridSearchCV(SVD,param_grid=params,n_jobs=-1)\n",
    "svd_model_optimised.fit(data)\n",
    "\n",
    "print(svd_model_optimised.best_score)\n",
    "print(svd_model_optimised.best_params)"
   ]
  },
  {
   "cell_type": "markdown",
   "metadata": {},
   "source": [
    "- The  best model seems to be the optimized SVD model with n_factors of 75 and reg_all of 0.05. This will be the model selected for the collaborative filtering algorithm. "
   ]
  },
  {
   "cell_type": "code",
   "execution_count": 136,
   "metadata": {},
   "outputs": [
    {
     "data": {
      "text/plain": [
       "<surprise.prediction_algorithms.matrix_factorization.SVD at 0x2483a1cdc90>"
      ]
     },
     "execution_count": 136,
     "metadata": {},
     "output_type": "execute_result"
    }
   ],
   "source": [
    "# Final Model\n",
    "final_model = SVD(n_factors=75, reg_all=0.05)\n",
    "final_model.fit(dataset)"
   ]
  },
  {
   "cell_type": "markdown",
   "metadata": {},
   "source": [
    "## 5. Conclusion\n",
    "\n",
    "The movie recommendation model has been created and is able to make recommendatins to users after getting several of their ratings. This can be achieved in many ways and is the job beyond the scope of this modelling project.\n",
    "\n",
    "The steps for applying recommendations is:\n",
    "- The rating will be implemented by asking for user ratings of several movies from a user,then merging the new user to the dataset and recompiling. \n",
    "- The user ratings for other movies can then be predicted and all that has to be done is selecting of top five highest rated movie for that user."
   ]
  }
 ],
 "metadata": {
  "kernelspec": {
   "display_name": "Python(learn-env)",
   "language": "python",
   "name": "learn-env"
  },
  "language_info": {
   "codemirror_mode": {
    "name": "ipython",
    "version": 3
   },
   "file_extension": ".py",
   "mimetype": "text/x-python",
   "name": "python",
   "nbconvert_exporter": "python",
   "pygments_lexer": "ipython3",
   "version": "3.10.11"
  },
  "orig_nbformat": 4
 },
 "nbformat": 4,
 "nbformat_minor": 2
}
